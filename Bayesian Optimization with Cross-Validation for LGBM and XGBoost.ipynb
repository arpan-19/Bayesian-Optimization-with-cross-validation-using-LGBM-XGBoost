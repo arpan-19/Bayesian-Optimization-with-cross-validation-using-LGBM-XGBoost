{
 "cells": [
  {
   "cell_type": "markdown",
   "metadata": {},
   "source": [
    "# Light GBM with cross validation"
   ]
  },
  {
   "cell_type": "code",
   "execution_count": 4,
   "metadata": {},
   "outputs": [],
   "source": [
    "from bayes_opt import BayesianOptimization\n",
    "from sklearn.model_selection import cross_val_score"
   ]
  },
  {
   "cell_type": "code",
   "execution_count": 1,
   "metadata": {},
   "outputs": [],
   "source": [
    "def lgb_evaluate(num_boost_round, learning_rate,max_depth,reg_alpha,reg_lambda,subsample,colsample_bytree,\n",
    "                min_child_weight,num_leaves):\n",
    "        \n",
    "    clf = lgb.LGBMClassifier(\n",
    "        num_boost_round= int(num_boost_round),\n",
    "        learning_rate= learning_rate,\n",
    "        max_depth= int(max_depth),\n",
    "        reg_alpha= reg_alpha,\n",
    "        reg_lambda=reg_lambda,\n",
    "        subsample= subsample,\n",
    "        colsample_bytree=colsample_bytree,\n",
    "        min_child_weight=min_child_weight,\n",
    "        n_jobs=-1,\n",
    "        random_seed=2021,\n",
    "        objective = 'binary', \n",
    "        num_leaves= int(num_leaves),metric= 'auc',\n",
    "        verbose =-1\n",
    "    )\n",
    "    \n",
    "    scores = cross_val_score(clf, X_train, y_train, cv=5, scoring='f1')\n",
    "    print(np.mean(scores))\n",
    "\n",
    "    return np.mean(scores)"
   ]
  },
  {
   "cell_type": "code",
   "execution_count": 2,
   "metadata": {},
   "outputs": [],
   "source": [
    "def bayesOpt(X_train, y_train):\n",
    "    lgbBO = BayesianOptimization(lgb_evaluate, {'num_leaves': (10,50),\n",
    "                                                'max_depth': (3,5),\n",
    "                                                'learning_rate': (0.1, 0.3),\n",
    "                                                'num_boost_round': (25, 200),\n",
    "                                                'reg_alpha' : (0.1, 1),\n",
    "                                                'reg_lambda': (0.1, 1),\n",
    "                                                'subsample': (0.5,  0.9),\n",
    "                                                'colsample_bytree': (0.5,1),\n",
    "                                                'min_child_weight': (0,10),\n",
    "                                               })\n",
    "\n",
    "\n",
    "    lgbBO.maximize(init_points=5, n_iter=5)\n",
    "\n",
    "    print(lgbBO.max)\n"
   ]
  },
  {
   "cell_type": "markdown",
   "metadata": {},
   "source": [
    "Call the function \"bayesOpt(X_train, y_train)\" and the best parameters will be printed. Pass those parameters in LGBMCLassifier in the next cell."
   ]
  },
  {
   "cell_type": "code",
   "execution_count": 3,
   "metadata": {},
   "outputs": [
    {
     "ename": "NameError",
     "evalue": "name 'LGBMClassifier' is not defined",
     "output_type": "error",
     "traceback": [
      "\u001b[1;31m---------------------------------------------------------------------------\u001b[0m",
      "\u001b[1;31mNameError\u001b[0m                                 Traceback (most recent call last)",
      "\u001b[1;32m<ipython-input-3-e370dd03de5f>\u001b[0m in \u001b[0;36m<module>\u001b[1;34m\u001b[0m\n\u001b[1;32m----> 1\u001b[1;33m lgbm_clf_bayesian_cross = LGBMClassifier(colsample_bytree=0.6296708043894408, learning_rate= 0.13134455240151333,\n\u001b[0m\u001b[0;32m      2\u001b[0m                                    \u001b[0mmax_depth\u001b[0m\u001b[1;33m=\u001b[0m\u001b[1;36m3\u001b[0m\u001b[1;33m,\u001b[0m \u001b[0mmin_child_weight\u001b[0m\u001b[1;33m=\u001b[0m\u001b[1;36m6.365296419412429\u001b[0m\u001b[1;33m,\u001b[0m \u001b[0mn_estimators\u001b[0m\u001b[1;33m=\u001b[0m\u001b[1;36m182\u001b[0m\u001b[1;33m,\u001b[0m\u001b[1;33m\u001b[0m\u001b[1;33m\u001b[0m\u001b[0m\n\u001b[0;32m      3\u001b[0m                                    \u001b[0msubsample\u001b[0m\u001b[1;33m=\u001b[0m\u001b[1;36m0.899447424209072\u001b[0m\u001b[1;33m,\u001b[0m \u001b[0mobjective\u001b[0m\u001b[1;33m=\u001b[0m\u001b[1;34m'binary'\u001b[0m\u001b[1;33m,\u001b[0m \u001b[0mrandom_state\u001b[0m\u001b[1;33m=\u001b[0m \u001b[1;36m2021\u001b[0m\u001b[1;33m,\u001b[0m\u001b[1;33m\u001b[0m\u001b[1;33m\u001b[0m\u001b[0m\n\u001b[0;32m      4\u001b[0m                           \u001b[0mboosting_type\u001b[0m \u001b[1;33m=\u001b[0m\u001b[1;34m'gbdt'\u001b[0m\u001b[1;33m,\u001b[0m \u001b[0mreg_lambda\u001b[0m\u001b[1;33m=\u001b[0m \u001b[1;36m0.35105827634182885\u001b[0m\u001b[1;33m,\u001b[0m \u001b[0mreg_alpha\u001b[0m\u001b[1;33m=\u001b[0m \u001b[1;36m0.15100610009471693\u001b[0m\u001b[1;33m,\u001b[0m\u001b[1;33m\u001b[0m\u001b[1;33m\u001b[0m\u001b[0m\n\u001b[0;32m      5\u001b[0m                                   num_leaves=45)\n",
      "\u001b[1;31mNameError\u001b[0m: name 'LGBMClassifier' is not defined"
     ]
    }
   ],
   "source": [
    "lgbm_clf_bayesian_cross = LGBMClassifier(colsample_bytree=0.6296708043894408, learning_rate= 0.13134455240151333,\n",
    "                                   max_depth=3, min_child_weight=6.365296419412429, n_estimators=182,\n",
    "                                   subsample=0.899447424209072, objective='binary', random_state= 2021,\n",
    "                          boosting_type ='gbdt', reg_lambda= 0.35105827634182885, reg_alpha= 0.15100610009471693,\n",
    "                                  num_leaves=45)\n",
    "\n",
    "lgbm_clf_bayesian_cross.fit(X_train, y_train)\n",
    "\n",
    "predictions_train = lgbm_clf_bayesian_cross.predict(X_train)\n",
    "predictions_test = lgbm_clf_bayesian_cross.predict(X_test)\n",
    "\n",
    "###Train data \n",
    "print(\"Confusion Matrix for train data:\")\n",
    "print(confusion_matrix(y_train, predictions_train))\n",
    "print('\\n')\n",
    "print(\"Classification Report for train data\")\n",
    "print(classification_report(y_train, predictions_train))\n",
    "print('\\n')\n",
    "\n",
    "\n",
    "###Test data\n",
    "print(\"Confusion Matrix for test data:\")\n",
    "print(confusion_matrix(y_test, predictions_test))\n",
    "print('\\n')\n",
    "print(\"Classification Report for test data\")\n",
    "print(classification_report(y_test, predictions_test))"
   ]
  },
  {
   "cell_type": "markdown",
   "metadata": {},
   "source": [
    "# XGBoost with Cross Validation"
   ]
  },
  {
   "cell_type": "code",
   "execution_count": 5,
   "metadata": {},
   "outputs": [],
   "source": [
    "def xgb_evaluate(n_estimators, learning_rate,max_depth,reg_alpha,reg_lambda,subsample,colsample_bytree,\n",
    "                min_child_weight,gamma):\n",
    "        \n",
    "    xgb_1 = xgb.XGBClassifier(\n",
    "        n_estimators= int(n_estimators),\n",
    "        learning_rate= learning_rate,\n",
    "        max_depth= int(max_depth),\n",
    "        reg_alpha= reg_alpha,\n",
    "        reg_lambda=reg_lambda,\n",
    "        subsample= subsample,\n",
    "        colsample_bytree=colsample_bytree,\n",
    "        min_child_weight=min_child_weight,\n",
    "        n_jobs=-1,\n",
    "        random_seed=2021,\n",
    "        objective = 'binary:logistic', \n",
    "        gamma= gamma,metric= 'auc',\n",
    "        verbose =-1\n",
    "    )\n",
    "    \n",
    "    scores = cross_val_score(xgb_1, X_train, y_train, cv=5, scoring='f1')\n",
    "    print(np.mean(scores))\n",
    "\n",
    "    return np.mean(scores)"
   ]
  },
  {
   "cell_type": "code",
   "execution_count": 6,
   "metadata": {},
   "outputs": [],
   "source": [
    "def bayesOpt(X_train, y_train):\n",
    "    lgbBO = BayesianOptimization(xgb_evaluate, {'max_depth': (3,5),\n",
    "                                                'learning_rate': (0.1, 0.3),\n",
    "                                                'n_estimators': (25, 200),\n",
    "                                                'reg_alpha' : (0.1, 1),\n",
    "                                                'reg_lambda': (0.1, 1),\n",
    "                                                'subsample': (0.5,  0.9),\n",
    "                                                'colsample_bytree': (0.5,1),\n",
    "                                                'min_child_weight': (0,10),\n",
    "                                                'gamma': (0,1)\n",
    "                                               })\n",
    "\n",
    "\n",
    "    lgbBO.maximize(init_points=5, n_iter=5)\n",
    "\n",
    "    print(lgbBO.max)"
   ]
  },
  {
   "cell_type": "code",
   "execution_count": 7,
   "metadata": {},
   "outputs": [],
   "source": [
    "from xgboost import XGBClassifier\n",
    "model_xgb= XGBClassifier()"
   ]
  },
  {
   "cell_type": "markdown",
   "metadata": {},
   "source": [
    "Call the bayesOpt(X_train, y_train) and Pass the best paramaters into the XGBClassifier() as shown below"
   ]
  },
  {
   "cell_type": "code",
   "execution_count": null,
   "metadata": {},
   "outputs": [],
   "source": [
    "xgb_clf_bayesian_cross = XGBClassifier(colsample_bytree=0.7175669183131084, learning_rate= 0.16996462009544472,\n",
    "                                   max_depth=4, min_child_weight=0.15148888091017665, n_estimators=153,\n",
    "                                   subsample=0.8559299578122153, random_state= 2021,\n",
    "                          boosting_type ='gbdt', reg_lambda= 0.6149041547479859, reg_alpha= 0.813321397675256,\n",
    "                                  gamma=0.7884315900628941)\n",
    "\n",
    "xgb_clf_bayesian_cross.fit(X_train, y_train)\n",
    "\n",
    "predictions_train = xgb_clf_bayesian_cross.predict(X_train)\n",
    "predictions_test = xgb_clf_bayesian_cross.predict(X_test)\n",
    "\n",
    "###Train data \n",
    "print(\"Confusion Matrix for train data:\")\n",
    "print(confusion_matrix(y_train, predictions_train))\n",
    "print('\\n')\n",
    "print(\"Classification Report for train data\")\n",
    "print(classification_report(y_train, predictions_train))\n",
    "print('\\n')\n",
    "\n",
    "###Validation data\n",
    "# print(\"Confusion Matrix for validation data:\")\n",
    "# print(confusion_matrix(y_val, predictions_val))\n",
    "# print('\\n')\n",
    "# print(\"Classification Report for validation data\")\n",
    "# print(classification_report(y_val, predictions_val))\n",
    "# print('\\n')\n",
    "\n",
    "###Test data\n",
    "print(\"Confusion Matrix for test data:\")\n",
    "print(confusion_matrix(y_test, predictions_test))\n",
    "print('\\n')\n",
    "print(\"Classification Report for test data\")\n",
    "print(classification_report(y_test, predictions_test))"
   ]
  },
  {
   "cell_type": "code",
   "execution_count": 8,
   "metadata": {},
   "outputs": [],
   "source": [
    "from sklearn.metrics import precision_recall_curve, average_precision_score, roc_curve, roc_auc_score\n",
    "def auprc(y,preds):\n",
    "    precision, recall, thresholds = precision_recall_curve(y,preds)\n",
    "    avg_prec = average_precision_score(y,preds)\n",
    "    plt.plot(recall,precision, label='avg precision='+str(avg_prec))\n",
    "    plt.legend(loc=4)\n",
    "    \n",
    "    fpr, tpr, _ = roc_curve(y, preds)\n",
    "    auc = roc_auc_score(y, preds)\n",
    "    plt.plot(fpr, tpr, label=\"auc\"+str(auc))\n",
    "    plt.legend(loc=4)\n",
    "    \n",
    "    plt.show()"
   ]
  },
  {
   "cell_type": "code",
   "execution_count": null,
   "metadata": {},
   "outputs": [],
   "source": [
    "from pprint import pprint\n",
    "train_pred_confusion = [1 if w>=0.4 else 0 for w in list(train_preds)]\n",
    "print(\"Confusion Matrix: \")\n",
    "print(confusion_matrix(y_train, train_pred_confusion),'\\n')\n",
    "pprint(classification_report(y_train, train_pred_confusion))\n",
    "\n",
    "test_pred_confusion = [1 if w>=0.4 else 0 for w in list(test_preds)]\n",
    "print(\"Confusion Matrix: \")\n",
    "print(confusion_matrix(y_test, test_pred_confusion),'\\n')\n",
    "pprint(classification_report(y_test, test_pred_confusion))"
   ]
  }
 ],
 "metadata": {
  "kernelspec": {
   "display_name": "Python 3",
   "language": "python",
   "name": "python3"
  },
  "language_info": {
   "codemirror_mode": {
    "name": "ipython",
    "version": 3
   },
   "file_extension": ".py",
   "mimetype": "text/x-python",
   "name": "python",
   "nbconvert_exporter": "python",
   "pygments_lexer": "ipython3",
   "version": "3.8.5"
  }
 },
 "nbformat": 4,
 "nbformat_minor": 4
}
